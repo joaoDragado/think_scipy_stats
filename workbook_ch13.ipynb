{
 "cells": [
  {
   "cell_type": "code",
   "execution_count": 9,
   "metadata": {},
   "outputs": [],
   "source": [
    "import numpy as np\n",
    "import pandas as pd\n",
    "import statsmodels.formula.api as smf\n",
    "from statsmodels.distributions.empirical_distribution import ECDF\n",
    "\n",
    "# add precision\n",
    "%precision 3\n",
    "\n",
    "#%% Visualization Libraries\n",
    "import matplotlib.pyplot as plt\n",
    "import matplotlib\n",
    "matplotlib.style.use('ggplot')\n",
    "import seaborn as sns\n",
    "sns.set(color_codes=True)\n",
    "\n",
    "from matplotlib import rcParams\n",
    "rcParams['figure.figsize'] = (12, 6)\n",
    "\n",
    "%matplotlib inline "
   ]
  },
  {
   "cell_type": "code",
   "execution_count": 2,
   "metadata": {
    "collapsed": true
   },
   "outputs": [],
   "source": [
    "# Pregnancy Data\n",
    "data = pd.read_pickle('nsfg_data.pkl')"
   ]
  },
  {
   "cell_type": "markdown",
   "metadata": {},
   "source": [
    "The outcome codes 1, 3, 4 indicate live birth, stillbirth, and miscarriage.\n",
    "\n",
    "We are excluding induced abortions, ectopic pregnancies,\n",
    "and pregnancies in progress when interviewed."
   ]
  },
  {
   "cell_type": "code",
   "execution_count": 3,
   "metadata": {},
   "outputs": [
    {
     "data": {
      "text/plain": [
       "0     0.08\n",
       "1     0.10\n",
       "2     0.44\n",
       "3     0.55\n",
       "4     0.78\n",
       "5     0.58\n",
       "6     0.80\n",
       "7     0.55\n",
       "8     0.76\n",
       "9     0.84\n",
       "10    0.52\n",
       "11    0.66\n",
       "12    0.64\n",
       "13    0.82\n",
       "14    0.26\n",
       "15    0.38\n",
       "16    0.40\n",
       "17    0.68\n",
       "18    0.21\n",
       "19    0.32\n",
       "20    0.24\n",
       "21    0.28\n",
       "22    0.62\n",
       "23    0.17\n",
       "24    0.35\n",
       "25    0.17\n",
       "26    0.60\n",
       "27    0.14\n",
       "28    0.42\n",
       "29    0.30\n",
       "30    0.74\n",
       "31    0.35\n",
       "32    0.70\n",
       "33    0.48\n",
       "34    0.50\n",
       "35    0.86\n",
       "36    0.90\n",
       "37    0.92\n",
       "38    0.96\n",
       "39    1.00\n",
       "40    0.98\n",
       "41    0.94\n",
       "42    0.88\n",
       "43    0.72\n",
       "44    0.46\n",
       "45    0.21\n",
       "46    0.03\n",
       "47    0.03\n",
       "48    0.12\n",
       "50    0.06\n",
       "Name: prglngth, dtype: float64"
      ]
     },
     "execution_count": 3,
     "metadata": {},
     "output_type": "execute_result"
    }
   ],
   "source": [
    "# completed pregnancies\n",
    "complete = data.query('outcome in [1,3,4]').prglngth\n",
    "\n",
    "prglgth_counts = complete.value_counts().sort_index()\n",
    "\n",
    "prglgth_counts.rank(pct=True)\n"
   ]
  },
  {
   "cell_type": "markdown",
   "metadata": {},
   "source": [
    "###  13.1 Survival curves\n",
    "\n",
    "> ** Plotting cdf & sf using statsmodels empirical distribution.**\n",
    "\n"
   ]
  },
  {
   "cell_type": "code",
   "execution_count": 4,
   "metadata": {},
   "outputs": [
    {
     "data": {
      "text/plain": [
       "<matplotlib.legend.Legend at 0xaa4d6f2c>"
      ]
     },
     "execution_count": 4,
     "metadata": {},
     "output_type": "execute_result"
    },
    {
     "data": {
      "image/png": "[encoded data removed]",
      "text/plain": [
       "<matplotlib.figure.Figure at 0xaa540bac>"
      ]
     },
     "metadata": {},
     "output_type": "display_data"
    }
   ],
   "source": [
    "ecdf = ECDF(complete)\n",
    "plt.plot(ecdf.x, ecdf.y,label='CDF' )\n",
    "plt.plot(ecdf.x, 1 - ecdf.y, label='SF')\n",
    "plt.legend()\n"
   ]
  },
  {
   "cell_type": "markdown",
   "metadata": {},
   "source": [
    "### Fraction of pregnancies that proceed past the first trimester(13th week):"
   ]
  },
  {
   "cell_type": "code",
   "execution_count": 6,
   "metadata": {},
   "outputs": [
    {
     "data": {
      "text/plain": [
       "sf_pvals     0.86022\n",
       "weeks       13.00000\n",
       "dtype: float64"
      ]
     },
     "execution_count": 6,
     "metadata": {},
     "output_type": "execute_result"
    }
   ],
   "source": [
    "# using statsmodels ECDF\n",
    "sf_pvals = 1 - ecdf.y\n",
    "sf_vals = pd.DataFrame({'weeks':ecdf.x, 'sf_pvals':sf_pvals}, index=ecdf.x)\n",
    "\n",
    "sf_vals.loc[13].min()"
   ]
  },
  {
   "cell_type": "code",
   "execution_count": 12,
   "metadata": {},
   "outputs": [
    {
     "data": {
      "text/plain": [
       "0.860"
      ]
     },
     "execution_count": 12,
     "metadata": {},
     "output_type": "execute_result"
    },
    {
     "data": {
      "image/png": "[encoded data removed]",
      "text/plain": [
       "<matplotlib.figure.Figure at 0xaa2c33cc>"
      ]
     },
     "metadata": {},
     "output_type": "display_data"
    }
   ],
   "source": [
    "# using pandas\n",
    "p_vals,bins, _ =  plt.hist(complete, bins=50,normed=True,cumulative=True )\n",
    "sf_pvals = 1 - p_vals\n",
    "sf_pvals[13]\n"
   ]
  },
  {
   "cell_type": "markdown",
   "metadata": {},
   "source": [
    "### 13.2 Hazard function"
   ]
  },
  {
   "cell_type": "code",
   "execution_count": 13,
   "metadata": {},
   "outputs": [],
   "source": [
    "# create the hazard function series\n",
    "haz_f = np.abs(np.diff(sf_pvals)) / sf_pvals[:-1]"
   ]
  },
  {
   "cell_type": "code",
   "execution_count": 14,
   "metadata": {},
   "outputs": [
    {
     "data": {
      "text/plain": [
       "0.497"
      ]
     },
     "execution_count": 14,
     "metadata": {},
     "output_type": "execute_result"
    }
   ],
   "source": [
    "#Of all pregnancies that proceed until week 39, about 50% end in week 39\n",
    "haz_f[39]"
   ]
  },
  {
   "cell_type": "code",
   "execution_count": 16,
   "metadata": {},
   "outputs": [
    {
     "data": {
      "text/plain": [
       "[<matplotlib.lines.Line2D at 0xaa2c394c>]"
      ]
     },
     "execution_count": 16,
     "metadata": {},
     "output_type": "execute_result"
    },
    {
     "data": {
      "image/png": "[encoded data removed]",
      "text/plain": [
       "<matplotlib.figure.Figure at 0xaa2f622c>"
      ]
     },
     "metadata": {},
     "output_type": "display_data"
    }
   ],
   "source": [
    "#plot \n",
    "plt.plot(haz_f, label='Hazard Function')"
   ]
  }
 ],
 "metadata": {
  "kernelspec": {
   "display_name": "Python 3",
   "language": "python",
   "name": "python3"
  },
  "language_info": {
   "codemirror_mode": {
    "name": "ipython",
    "version": 3
   },
   "file_extension": ".py",
   "mimetype": "text/x-python",
   "name": "python",
   "nbconvert_exporter": "python",
   "pygments_lexer": "ipython3",
   "version": "3.6.1"
  }
 },
 "nbformat": 4,
 "nbformat_minor": 2
}
