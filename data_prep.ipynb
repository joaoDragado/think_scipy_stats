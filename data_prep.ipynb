{
 "cells": [
  {
   "cell_type": "markdown",
   "metadata": {},
   "source": [
    "#### Code that transforms the datasets to our preferred formats. i.e. in pandas Dataframes, and then saves them in native storage format via the pickle library.\n",
    "\n",
    "- To be run within the directory that contains the book's code ( data + helper libraries)\n",
    "\n",
    "- The pickle objects should be moved or copied to a folder accessible by the jupyter notebooks."
   ]
  },
  {
   "cell_type": "code",
   "execution_count": null,
   "metadata": {
    "collapsed": true
   },
   "outputs": [],
   "source": [
    "# Pregnancy Data\n",
    "import nsfg\n",
    "df = nsfg.ReadFemPreg()\n",
    "pd.to_pickle(df, 'nsfg_data.pkl')"
   ]
  },
  {
   "cell_type": "code",
   "execution_count": null,
   "metadata": {
    "collapsed": true
   },
   "outputs": [],
   "source": [
    "# CDC demographic - Body weight\n",
    "import brfss\n",
    "cdc_2008 = brfss.ReadBrfss()\n",
    "pd.to_pickle(cdc_2008, 'cdc_demographic_2008.pkl')"
   ]
  }
 ],
 "metadata": {
  "kernelspec": {
   "display_name": "Python 3",
   "language": "python",
   "name": "python3"
  },
  "language_info": {
   "codemirror_mode": {
    "name": "ipython",
    "version": 3
   },
   "file_extension": ".py",
   "mimetype": "text/x-python",
   "name": "python",
   "nbconvert_exporter": "python",
   "pygments_lexer": "ipython3",
   "version": "3.6.1"
  }
 },
 "nbformat": 4,
 "nbformat_minor": 2
}
